{
 "cells": [
  {
   "cell_type": "code",
   "execution_count": 1,
   "metadata": {},
   "outputs": [],
   "source": [
    "# imports\n",
    "from pyimagesearch.learningratefinder import LearningRateFinder\n",
    "from pyimagesearch.clr_callback import CyclicLR\n",
    "from tensorflow.keras.layers import GlobalAveragePooling2D\n",
    "from tensorflow.keras.layers import Input\n",
    "from tensorflow.keras.layers import Dense\n",
    "from tensorflow.keras.models import Model\n",
    "from tensorflow.keras.applications import VGG16\n",
    "from tensorflow.keras.optimizers import SGD\n",
    "from wandb.keras import WandbCallback\n",
    "from pyimagesearch import config\n",
    "from utils import data_utils\n",
    "import tensorflow as tf\n",
    "import numpy as np\n",
    "import wandb\n",
    "import time"
   ]
  },
  {
   "cell_type": "markdown",
   "metadata": {},
   "source": [
    "The `pyimagesearch` module comes from our tutorial [Keras Learning Rate Finder](https://www.pyimagesearch.com/2019/08/05/keras-learning-rate-finder/). "
   ]
  },
  {
   "cell_type": "code",
   "execution_count": 2,
   "metadata": {},
   "outputs": [],
   "source": [
    "# fix random seed for better reproducibility\n",
    "tf.random.set_seed(666)"
   ]
  },
  {
   "cell_type": "code",
   "execution_count": 3,
   "metadata": {},
   "outputs": [],
   "source": [
    "# don't change this\n",
    "CLASSES = [b'daisy', b'dandelion', b'roses', b'sunflowers', b'tulips']"
   ]
  },
  {
   "cell_type": "code",
   "execution_count": 4,
   "metadata": {},
   "outputs": [],
   "source": [
    "# define the constants\n",
    "BATCH_SIZE = 32\n",
    "EPOCHS = 20"
   ]
  },
  {
   "cell_type": "code",
   "execution_count": 5,
   "metadata": {},
   "outputs": [],
   "source": [
    "# let's load up the tfrecord filenames\n",
    "tfr_pattern_train = \"train_tfr/*.tfrec\"\n",
    "train_filenames = tf.io.gfile.glob(tfr_pattern_train)\n",
    "tfr_pattern_test = \"test_tfr/*.tfrec\"\n",
    "test_filenames = tf.io.gfile.glob(tfr_pattern_test)"
   ]
  },
  {
   "cell_type": "code",
   "execution_count": 6,
   "metadata": {},
   "outputs": [],
   "source": [
    "# create the train and test dataset\n",
    "training_dataset, steps_per_epoch = data_utils.batch_dataset(train_filenames, BATCH_SIZE, True)\n",
    "validation_dataset, validation_steps = data_utils.batch_dataset(test_filenames, BATCH_SIZE, False)"
   ]
  },
  {
   "cell_type": "code",
   "execution_count": 7,
   "metadata": {},
   "outputs": [],
   "source": [
    "# create a utility function to define our model\n",
    "def create_model(img_size=(224,224), num_class=5, train_base=True):\n",
    "    input_layer = Input(shape=(img_size[0],img_size[1],3))\n",
    "    base = VGG16(input_tensor=input_layer,\n",
    "                    include_top=False,\n",
    "                    weights=\"imagenet\")\n",
    "    base.trainable = train_base\n",
    "    x = base.output\n",
    "    x = GlobalAveragePooling2D()(x)\n",
    "    \n",
    "    preds = Dense(num_class, activation=\"softmax\")(x)\n",
    "    return Model(inputs=input_layer, outputs=preds)"
   ]
  },
  {
   "cell_type": "code",
   "execution_count": 9,
   "metadata": {},
   "outputs": [],
   "source": [
    "# instantiate the model, supply the loss scaled optimizer,\n",
    "# and compile it\n",
    "model = create_model()\n",
    "opt = SGD(learning_rate=config.MIN_LR)\n",
    "model.compile(loss=\"sparse_categorical_crossentropy\",\n",
    "              optimizer=opt,\n",
    "              metrics=[\"accuracy\"])"
   ]
  },
  {
   "cell_type": "markdown",
   "metadata": {},
   "source": [
    "**Brief steps to find a learning rate range**:\n",
    "\n",
    "![](https://i.ibb.co/J3LjtNS/Screen-Shot-2019-12-08-at-9-55-29-AM.png)\n",
    "<center><a href=\"https://www.pyimagesearch.com/2019/08/05/keras-learning-rate-finder/\">Credits</a></center>"
   ]
  },
  {
   "cell_type": "code",
   "execution_count": 10,
   "metadata": {},
   "outputs": [
    {
     "name": "stdout",
     "output_type": "stream",
     "text": [
      "Epoch 1/22\n",
      "97/97 [==============================] - 72s 746ms/step - loss: 1.9282 - accuracy: 0.2126\n",
      "Epoch 2/22\n",
      "97/97 [==============================] - 63s 646ms/step - loss: 1.9040 - accuracy: 0.2213\n",
      "Epoch 3/22\n",
      "97/97 [==============================] - 63s 648ms/step - loss: 1.9297 - accuracy: 0.2101\n",
      "Epoch 4/22\n",
      "97/97 [==============================] - 63s 646ms/step - loss: 1.9216 - accuracy: 0.2155\n",
      "Epoch 5/22\n",
      "97/97 [==============================] - 63s 647ms/step - loss: 1.9093 - accuracy: 0.2197\n",
      "Epoch 6/22\n",
      "97/97 [==============================] - 63s 647ms/step - loss: 1.9284 - accuracy: 0.2130\n",
      "Epoch 7/22\n",
      "97/97 [==============================] - 63s 647ms/step - loss: 1.9202 - accuracy: 0.2120\n",
      "Epoch 8/22\n",
      "97/97 [==============================] - 63s 647ms/step - loss: 1.9100 - accuracy: 0.2226\n",
      "Epoch 9/22\n",
      "97/97 [==============================] - 63s 646ms/step - loss: 1.9170 - accuracy: 0.2136\n",
      "Epoch 10/22\n",
      "97/97 [==============================] - 63s 646ms/step - loss: 1.8906 - accuracy: 0.2178\n",
      "Epoch 11/22\n",
      "97/97 [==============================] - 63s 645ms/step - loss: 1.8530 - accuracy: 0.2094\n",
      "Epoch 12/22\n",
      "97/97 [==============================] - 63s 646ms/step - loss: 1.7294 - accuracy: 0.2181\n",
      "Epoch 13/22\n",
      "97/97 [==============================] - 63s 647ms/step - loss: 1.5949 - accuracy: 0.2365\n",
      "Epoch 14/22\n",
      "97/97 [==============================] - 63s 647ms/step - loss: 1.4109 - accuracy: 0.4365\n",
      "Epoch 15/22\n",
      "97/97 [==============================] - 63s 647ms/step - loss: 1.0438 - accuracy: 0.6066\n",
      "Epoch 16/22\n",
      "97/97 [==============================] - 63s 647ms/step - loss: 0.9356 - accuracy: 0.6521\n",
      "Epoch 17/22\n",
      "97/97 [==============================] - 63s 644ms/step - loss: 1.3447 - accuracy: 0.4514\n",
      "Epoch 18/22\n",
      "97/97 [==============================] - 61s 634ms/step - loss: 1.6400 - accuracy: 0.2526\n",
      "Epoch 19/22\n",
      "97/97 [==============================] - 60s 619ms/step - loss: 1.6088 - accuracy: 0.2374\n",
      "Epoch 20/22\n",
      "97/97 [==============================] - 60s 614ms/step - loss: 1.6012 - accuracy: 0.2448\n",
      "Epoch 21/22\n",
      "97/97 [==============================] - 59s 613ms/step - loss: 1.6129 - accuracy: 0.2239\n",
      "Epoch 22/22\n",
      "97/97 [==============================] - 59s 613ms/step - loss: 1.7253 - accuracy: 0.2039\n"
     ]
    }
   ],
   "source": [
    "# use the learning rate finder to find a suitable range \n",
    "# to train our network\n",
    "lrf = LearningRateFinder(model)\n",
    "lrf.find(\n",
    "    training_dataset,\n",
    "    1e-10, 1e+1,\n",
    "    stepsPerEpoch=steps_per_epoch,\n",
    "    batchSize=config.BATCH_SIZE)"
   ]
  },
  {
   "cell_type": "code",
   "execution_count": 11,
   "metadata": {},
   "outputs": [
    {
     "data": {
      "image/png": "[encoded data removed]",
      "text/plain": [
       "<Figure size 432x288 with 1 Axes>"
      ]
     },
     "metadata": {
      "needs_background": "light"
     },
     "output_type": "display_data"
    }
   ],
   "source": [
    "# let's plot the learning rates\n",
    "lrf.plot_loss()"
   ]
  },
  {
   "cell_type": "code",
   "execution_count": 8,
   "metadata": {},
   "outputs": [
    {
     "data": {
      "text/html": [
       "\n",
       "                Logging results to <a href=\"https://wandb.com\" target=\"_blank\">Weights & Biases</a> <a href=\"https://docs.wandb.com/integrations/jupyter.html\" target=\"_blank\">(Documentation)</a>.<br/>\n",
       "                Project page: <a href=\"https://app.wandb.ai/sayakpaul/ML-Bootcamp-Launchpad\" target=\"_blank\">https://app.wandb.ai/sayakpaul/ML-Bootcamp-Launchpad</a><br/>\n",
       "                Run page: <a href=\"https://app.wandb.ai/sayakpaul/ML-Bootcamp-Launchpad/runs/x2ckud9w\" target=\"_blank\">https://app.wandb.ai/sayakpaul/ML-Bootcamp-Launchpad/runs/x2ckud9w</a><br/>\n",
       "            "
      ],
      "text/plain": [
       "<IPython.core.display.HTML object>"
      ]
     },
     "metadata": {},
     "output_type": "display_data"
    },
    {
     "data": {
      "text/plain": [
       "W&B Run: https://app.wandb.ai/sayakpaul/ML-Bootcamp-Launchpad/runs/x2ckud9w"
      ]
     },
     "execution_count": 8,
     "metadata": {},
     "output_type": "execute_result"
    }
   ],
   "source": [
    "# initialize wandb\n",
    "wandb.init(\"ml-bootcamp\")"
   ]
  },
  {
   "cell_type": "code",
   "execution_count": 9,
   "metadata": {},
   "outputs": [],
   "source": [
    "# instantiate the model, supply the loss scaled optimizer,\n",
    "# and compile it\n",
    "model = create_model()\n",
    "opt = SGD(learning_rate=config.MIN_LR)\n",
    "model.compile(loss=\"sparse_categorical_crossentropy\",\n",
    "              optimizer=opt,\n",
    "              metrics=[\"accuracy\"])"
   ]
  },
  {
   "cell_type": "code",
   "execution_count": 10,
   "metadata": {},
   "outputs": [],
   "source": [
    "# compute the step size and initialize the cyclic learning\n",
    "# rate method\n",
    "step_size = config.STEP_SIZE * steps_per_epoch\n",
    "clr = CyclicLR(\n",
    "\tmode=config.CLR_METHOD,\n",
    "\tbase_lr=config.MIN_LR,\n",
    "\tmax_lr=1e-3,\n",
    "\tstep_size=step_size)"
   ]
  },
  {
   "cell_type": "code",
   "execution_count": 11,
   "metadata": {},
   "outputs": [
    {
     "name": "stdout",
     "output_type": "stream",
     "text": [
      "Epoch 1/20\n",
      "97/97 [==============================] - 78s 807ms/step - loss: 1.8283 - accuracy: 0.2123 - val_loss: 1.6832 - val_accuracy: 0.2059\n",
      "Epoch 2/20\n",
      "97/97 [==============================] - 68s 697ms/step - loss: 1.5925 - accuracy: 0.2458 - val_loss: 1.5165 - val_accuracy: 0.3511\n",
      "Epoch 3/20\n",
      "97/97 [==============================] - 68s 700ms/step - loss: 1.4599 - accuracy: 0.4117 - val_loss: 1.3459 - val_accuracy: 0.4596\n",
      "Epoch 4/20\n",
      "97/97 [==============================] - 68s 698ms/step - loss: 1.2314 - accuracy: 0.5319 - val_loss: 0.9411 - val_accuracy: 0.6857\n",
      "Epoch 5/20\n",
      "97/97 [==============================] - 68s 698ms/step - loss: 0.9061 - accuracy: 0.6604 - val_loss: 0.6441 - val_accuracy: 0.7978\n",
      "Epoch 6/20\n",
      "97/97 [==============================] - 68s 698ms/step - loss: 0.7531 - accuracy: 0.7245 - val_loss: 0.5293 - val_accuracy: 0.8143\n",
      "Epoch 7/20\n",
      "97/97 [==============================] - 68s 697ms/step - loss: 0.6248 - accuracy: 0.7703 - val_loss: 0.4384 - val_accuracy: 0.8566\n",
      "Epoch 8/20\n",
      "97/97 [==============================] - 68s 698ms/step - loss: 0.5878 - accuracy: 0.7845 - val_loss: 0.4104 - val_accuracy: 0.8529\n",
      "Epoch 9/20\n",
      "97/97 [==============================] - 68s 698ms/step - loss: 0.5086 - accuracy: 0.8196 - val_loss: 0.3301 - val_accuracy: 0.8915\n",
      "Epoch 10/20\n",
      "97/97 [==============================] - 68s 700ms/step - loss: 0.4538 - accuracy: 0.8412 - val_loss: 0.3013 - val_accuracy: 0.9099\n",
      "Epoch 11/20\n",
      "97/97 [==============================] - 68s 698ms/step - loss: 0.4047 - accuracy: 0.8521 - val_loss: 0.4773 - val_accuracy: 0.8272\n",
      "Epoch 12/20\n",
      "97/97 [==============================] - 68s 697ms/step - loss: 0.3474 - accuracy: 0.8763 - val_loss: 0.2838 - val_accuracy: 0.8989\n",
      "Epoch 13/20\n",
      "97/97 [==============================] - 68s 697ms/step - loss: 0.3160 - accuracy: 0.8879 - val_loss: 0.2312 - val_accuracy: 0.9191\n",
      "Epoch 14/20\n",
      "97/97 [==============================] - 68s 700ms/step - loss: 0.2992 - accuracy: 0.8937 - val_loss: 0.2164 - val_accuracy: 0.9283\n",
      "Epoch 15/20\n",
      "97/97 [==============================] - 68s 700ms/step - loss: 0.2864 - accuracy: 0.9030 - val_loss: 0.2115 - val_accuracy: 0.9357\n",
      "Epoch 16/20\n",
      "97/97 [==============================] - 68s 698ms/step - loss: 0.2589 - accuracy: 0.9130 - val_loss: 0.1982 - val_accuracy: 0.9338\n",
      "Epoch 17/20\n",
      "97/97 [==============================] - 68s 698ms/step - loss: 0.2493 - accuracy: 0.9069 - val_loss: 0.1976 - val_accuracy: 0.9338\n",
      "Epoch 18/20\n",
      "97/97 [==============================] - 68s 699ms/step - loss: 0.2601 - accuracy: 0.9088 - val_loss: 0.1968 - val_accuracy: 0.9265\n",
      "Epoch 19/20\n",
      "97/97 [==============================] - 68s 697ms/step - loss: 0.2739 - accuracy: 0.8969 - val_loss: 0.1981 - val_accuracy: 0.9320\n",
      "Epoch 20/20\n",
      "97/97 [==============================] - 68s 697ms/step - loss: 0.2938 - accuracy: 0.8976 - val_loss: 0.2101 - val_accuracy: 0.9210\n"
     ]
    }
   ],
   "source": [
    "# train the network with CLR\n",
    "start = time.time()\n",
    "model.fit_generator(training_dataset, \n",
    "    steps_per_epoch=steps_per_epoch,\n",
    "    validation_data=validation_dataset,\n",
    "    validation_steps=validation_steps,\n",
    "    epochs=EPOCHS,\n",
    "    callbacks=[clr, WandbCallback(data_type=\"image\", labels=CLASSES)])\n",
    "wandb.log({\"training_time\": time.time() - start})"
   ]
  }
 ],
 "metadata": {
  "kernelspec": {
   "display_name": "Python 3",
   "language": "python",
   "name": "python3"
  },
  "language_info": {
   "codemirror_mode": {
    "name": "ipython",
    "version": 3
   },
   "file_extension": ".py",
   "mimetype": "text/x-python",
   "name": "python",
   "nbconvert_exporter": "python",
   "pygments_lexer": "ipython3",
   "version": "3.5.3"
  }
 },
 "nbformat": 4,
 "nbformat_minor": 4
}
