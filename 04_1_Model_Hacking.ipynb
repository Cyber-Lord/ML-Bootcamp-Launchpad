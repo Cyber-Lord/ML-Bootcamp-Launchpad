{
 "cells": [
  {
   "cell_type": "code",
   "execution_count": 1,
   "metadata": {},
   "outputs": [],
   "source": [
    "# imports\n",
    "from pyimagesearch.learningratefinder import LearningRateFinder\n",
    "from pyimagesearch.clr_callback import CyclicLR\n",
    "from tensorflow.keras.layers import GlobalAveragePooling2D\n",
    "from tensorflow.keras.layers import Input\n",
    "from tensorflow.keras.layers import Dense\n",
    "from tensorflow.keras.models import Model\n",
    "from tensorflow.keras.applications import VGG16\n",
    "from tensorflow.keras.optimizers import Adam\n",
    "from wandb.keras import WandbCallback\n",
    "from pyimagesearch import config\n",
    "from utils import data_utils\n",
    "import tensorflow as tf\n",
    "import numpy as np\n",
    "import wandb\n",
    "import time"
   ]
  },
  {
   "cell_type": "markdown",
   "metadata": {},
   "source": [
    "The `pyimagesearch` module comes from our tutorial [Keras Learning Rate Finder](https://www.pyimagesearch.com/2019/08/05/keras-learning-rate-finder/). "
   ]
  },
  {
   "cell_type": "code",
   "execution_count": 2,
   "metadata": {},
   "outputs": [],
   "source": [
    "# fix random seed for better reproducibility\n",
    "tf.random.set_seed(666)"
   ]
  },
  {
   "cell_type": "code",
   "execution_count": 3,
   "metadata": {},
   "outputs": [],
   "source": [
    "# don't change this\n",
    "CLASSES = [b'daisy', b'dandelion', b'roses', b'sunflowers', b'tulips']"
   ]
  },
  {
   "cell_type": "code",
   "execution_count": 4,
   "metadata": {},
   "outputs": [],
   "source": [
    "# define the constants\n",
    "BATCH_SIZE = 64\n",
    "EPOCHS = 20"
   ]
  },
  {
   "cell_type": "code",
   "execution_count": 5,
   "metadata": {},
   "outputs": [],
   "source": [
    "# let's load up the tfrecord filenames\n",
    "tfr_pattern_train = \"train_tfr/*.tfrec\"\n",
    "train_filenames = tf.io.gfile.glob(tfr_pattern_train)\n",
    "tfr_pattern_test = \"test_tfr/*.tfrec\"\n",
    "test_filenames = tf.io.gfile.glob(tfr_pattern_test)"
   ]
  },
  {
   "cell_type": "code",
   "execution_count": 6,
   "metadata": {},
   "outputs": [],
   "source": [
    "# create the train and test dataset\n",
    "training_dataset, steps_per_epoch = data_utils.batch_dataset(train_filenames, BATCH_SIZE, True)\n",
    "validation_dataset, validation_steps = data_utils.batch_dataset(test_filenames, BATCH_SIZE, False)"
   ]
  },
  {
   "cell_type": "code",
   "execution_count": 7,
   "metadata": {},
   "outputs": [],
   "source": [
    "# create a utility function to define our model\n",
    "def create_model(img_size=(224,224), num_class=5, train_base=True):\n",
    "    input_layer = Input(shape=(img_size[0],img_size[1],3))\n",
    "    base = VGG16(input_tensor=input_layer,\n",
    "                    include_top=False,\n",
    "                    weights=\"imagenet\")\n",
    "    base.trainable = train_base\n",
    "    x = base.output\n",
    "    x = GlobalAveragePooling2D()(x)\n",
    "    \n",
    "    preds = Dense(num_class, activation=\"softmax\")(x)\n",
    "    return Model(inputs=input_layer, outputs=preds)"
   ]
  },
  {
   "cell_type": "code",
   "execution_count": 8,
   "metadata": {},
   "outputs": [],
   "source": [
    "# instantiate the model, supply the loss scaled optimizer,\n",
    "# and compile it\n",
    "model = create_model()\n",
    "opt = Adam(learning_rate=config.MIN_LR)\n",
    "model.compile(loss=\"sparse_categorical_crossentropy\",\n",
    "              optimizer=opt,\n",
    "              metrics=[\"accuracy\"])"
   ]
  },
  {
   "cell_type": "markdown",
   "metadata": {},
   "source": [
    "**Brief steps to find a learning rate range**:\n",
    "\n",
    "![](https://i.ibb.co/J3LjtNS/Screen-Shot-2019-12-08-at-9-55-29-AM.png)\n",
    "\n",
    "<center><a href=\"https://www.pyimagesearch.com/2019/08/05/keras-learning-rate-finder/\">Credits</a></center>"
   ]
  },
  {
   "cell_type": "code",
   "execution_count": 9,
   "metadata": {},
   "outputs": [
    {
     "name": "stdout",
     "output_type": "stream",
     "text": [
      "Epoch 1/43\n",
      "48/48 [==============================] - 77s 2s/step - loss: 1.9289 - accuracy: 0.2122\n",
      "Epoch 2/43\n",
      "48/48 [==============================] - 62s 1s/step - loss: 1.9036 - accuracy: 0.2214\n",
      "Epoch 3/43\n",
      "48/48 [==============================] - 62s 1s/step - loss: 1.9275 - accuracy: 0.2116\n",
      "Epoch 4/43\n",
      "48/48 [==============================] - 62s 1s/step - loss: 1.9264 - accuracy: 0.2135\n",
      "Epoch 5/43\n",
      "48/48 [==============================] - 62s 1s/step - loss: 1.9091 - accuracy: 0.2194\n",
      "Epoch 6/43\n",
      "48/48 [==============================] - 62s 1s/step - loss: 1.9201 - accuracy: 0.2152\n",
      "Epoch 7/43\n",
      "48/48 [==============================] - 62s 1s/step - loss: 1.9227 - accuracy: 0.2109\n",
      "Epoch 8/43\n",
      "48/48 [==============================] - 62s 1s/step - loss: 1.9090 - accuracy: 0.2210\n",
      "Epoch 9/43\n",
      "48/48 [==============================] - 62s 1s/step - loss: 1.9116 - accuracy: 0.2129\n",
      "Epoch 10/43\n",
      "48/48 [==============================] - 62s 1s/step - loss: 1.9018 - accuracy: 0.2178\n",
      "Epoch 11/43\n",
      "48/48 [==============================] - 62s 1s/step - loss: 1.8922 - accuracy: 0.2132\n",
      "Epoch 12/43\n",
      "48/48 [==============================] - 62s 1s/step - loss: 1.8609 - accuracy: 0.2178\n",
      "Epoch 13/43\n",
      "48/48 [==============================] - 62s 1s/step - loss: 1.8337 - accuracy: 0.2116\n",
      "Epoch 14/43\n",
      "48/48 [==============================] - 62s 1s/step - loss: 1.7655 - accuracy: 0.2165\n",
      "Epoch 15/43\n",
      "48/48 [==============================] - 62s 1s/step - loss: 1.6759 - accuracy: 0.2288\n",
      "Epoch 16/43\n",
      "48/48 [==============================] - 62s 1s/step - loss: 1.5383 - accuracy: 0.3164\n",
      "Epoch 17/43\n",
      "48/48 [==============================] - 62s 1s/step - loss: 1.2837 - accuracy: 0.5264\n",
      "Epoch 18/43\n",
      "48/48 [==============================] - 62s 1s/step - loss: 0.8584 - accuracy: 0.6842\n",
      "Epoch 19/43\n",
      "48/48 [==============================] - 62s 1s/step - loss: 0.5707 - accuracy: 0.7946\n",
      "Epoch 20/43\n",
      "48/48 [==============================] - 62s 1s/step - loss: 0.4775 - accuracy: 0.8311\n",
      "Epoch 21/43\n",
      "48/48 [==============================] - 62s 1s/step - loss: 0.4184 - accuracy: 0.8555\n",
      "Epoch 22/43\n",
      "48/48 [==============================] - 62s 1s/step - loss: 0.3560 - accuracy: 0.8721\n",
      "Epoch 23/43\n",
      "48/48 [==============================] - 62s 1s/step - loss: 0.3753 - accuracy: 0.8626\n",
      "Epoch 24/43\n",
      "48/48 [==============================] - 62s 1s/step - loss: 0.4289 - accuracy: 0.8385\n",
      "Epoch 25/43\n",
      "48/48 [==============================] - 61s 1s/step - loss: 0.4242 - accuracy: 0.8431\n",
      "Epoch 26/43\n",
      "48/48 [==============================] - 61s 1s/step - loss: 0.5258 - accuracy: 0.8037\n",
      "Epoch 27/43\n",
      "48/48 [==============================] - 60s 1s/step - loss: 1.2424 - accuracy: 0.5228\n",
      "Epoch 28/43\n",
      "48/48 [==============================] - 57s 1s/step - loss: 1.6774 - accuracy: 0.2334\n",
      "Epoch 29/43\n",
      "25/48 [==============>...............] - ETA: 26s - loss: 1.6063 - accuracy: 0.2506"
     ]
    }
   ],
   "source": [
    "# use the learning rate finder to find a suitable range \n",
    "# to train our network\n",
    "lrf = LearningRateFinder(model)\n",
    "lrf.find(\n",
    "    training_dataset,\n",
    "    1e-10, 1e+1,\n",
    "    stepsPerEpoch=steps_per_epoch,\n",
    "    batchSize=config.BATCH_SIZE)"
   ]
  },
  {
   "cell_type": "code",
   "execution_count": 10,
   "metadata": {},
   "outputs": [
    {
     "data": {
      "image/png": "[encoded data removed]",
      "text/plain": [
       "<Figure size 432x288 with 1 Axes>"
      ]
     },
     "metadata": {
      "needs_background": "light"
     },
     "output_type": "display_data"
    }
   ],
   "source": [
    "# let's plot the learning rates\n",
    "lrf.plot_loss()"
   ]
  },
  {
   "cell_type": "code",
   "execution_count": 11,
   "metadata": {},
   "outputs": [
    {
     "data": {
      "text/html": [
       "\n",
       "                Logging results to <a href=\"https://wandb.com\" target=\"_blank\">Weights & Biases</a> <a href=\"https://docs.wandb.com/integrations/jupyter.html\" target=\"_blank\">(Documentation)</a>.<br/>\n",
       "                Project page: <a href=\"https://app.wandb.ai/sayakpaul/ML-Bootcamp-Launchpad\" target=\"_blank\">https://app.wandb.ai/sayakpaul/ML-Bootcamp-Launchpad</a><br/>\n",
       "                Run page: <a href=\"https://app.wandb.ai/sayakpaul/ML-Bootcamp-Launchpad/runs/1pejp8xz\" target=\"_blank\">https://app.wandb.ai/sayakpaul/ML-Bootcamp-Launchpad/runs/1pejp8xz</a><br/>\n",
       "            "
      ],
      "text/plain": [
       "<IPython.core.display.HTML object>"
      ]
     },
     "metadata": {},
     "output_type": "display_data"
    },
    {
     "name": "stderr",
     "output_type": "stream",
     "text": [
      "Error generating diff: Command '['git', 'diff', '--submodule=diff', 'HEAD']' timed out after 5 seconds\n"
     ]
    },
    {
     "data": {
      "text/plain": [
       "W&B Run: https://app.wandb.ai/sayakpaul/ML-Bootcamp-Launchpad/runs/1pejp8xz"
      ]
     },
     "execution_count": 11,
     "metadata": {},
     "output_type": "execute_result"
    }
   ],
   "source": [
    "# initialize wandb\n",
    "wandb.init(\"ml-bootcamp\")"
   ]
  },
  {
   "cell_type": "code",
   "execution_count": 12,
   "metadata": {},
   "outputs": [],
   "source": [
    "# instantiate the model, supply the loss scaled optimizer,\n",
    "# and compile it\n",
    "model = create_model()\n",
    "opt = Adam(learning_rate=config.MIN_LR)\n",
    "model.compile(loss=\"sparse_categorical_crossentropy\",\n",
    "              optimizer=opt,\n",
    "              metrics=[\"accuracy\"])"
   ]
  },
  {
   "cell_type": "code",
   "execution_count": 13,
   "metadata": {},
   "outputs": [],
   "source": [
    "# compute the step size and initialize the cyclic learning\n",
    "# rate method\n",
    "step_size = config.STEP_SIZE * steps_per_epoch\n",
    "clr = CyclicLR(\n",
    "\tmode=config.CLR_METHOD,\n",
    "\tbase_lr=1e-6,\n",
    "\tmax_lr=1e-5,\n",
    "\tstep_size=step_size)"
   ]
  },
  {
   "cell_type": "code",
   "execution_count": 14,
   "metadata": {},
   "outputs": [
    {
     "name": "stderr",
     "output_type": "stream",
     "text": [
      "Error generating diff: Command '['git', 'diff', '--submodule=diff', 'HEAD']' timed out after 5 seconds\n"
     ]
    },
    {
     "name": "stdout",
     "output_type": "stream",
     "text": [
      "Epoch 1/20\n",
      "48/48 [==============================] - 73s 2s/step - loss: 1.6296 - accuracy: 0.2933 - val_loss: 1.4477 - val_accuracy: 0.4434\n",
      "Epoch 2/20\n",
      "48/48 [==============================] - 67s 1s/step - loss: 1.3129 - accuracy: 0.5085 - val_loss: 1.0919 - val_accuracy: 0.6719\n",
      "Epoch 3/20\n",
      "48/48 [==============================] - 68s 1s/step - loss: 0.9036 - accuracy: 0.6742 - val_loss: 0.5805 - val_accuracy: 0.7812\n",
      "Epoch 4/20\n",
      "48/48 [==============================] - 68s 1s/step - loss: 0.6019 - accuracy: 0.7835 - val_loss: 0.4196 - val_accuracy: 0.8555\n",
      "Epoch 5/20\n",
      "48/48 [==============================] - 68s 1s/step - loss: 0.4844 - accuracy: 0.8301 - val_loss: 0.3418 - val_accuracy: 0.8887\n",
      "Epoch 6/20\n",
      "48/48 [==============================] - 68s 1s/step - loss: 0.4226 - accuracy: 0.8512 - val_loss: 0.2808 - val_accuracy: 0.9043\n",
      "Epoch 7/20\n",
      "48/48 [==============================] - 68s 1s/step - loss: 0.3542 - accuracy: 0.8714 - val_loss: 0.2663 - val_accuracy: 0.9023\n",
      "Epoch 8/20\n",
      "48/48 [==============================] - 68s 1s/step - loss: 0.3399 - accuracy: 0.8783 - val_loss: 0.1989 - val_accuracy: 0.9414\n",
      "Epoch 9/20\n",
      "48/48 [==============================] - 67s 1s/step - loss: 0.2576 - accuracy: 0.9134 - val_loss: 0.1850 - val_accuracy: 0.9355\n",
      "Epoch 10/20\n",
      "48/48 [==============================] - 67s 1s/step - loss: 0.2357 - accuracy: 0.9215 - val_loss: 0.1874 - val_accuracy: 0.9375\n",
      "Epoch 11/20\n",
      "48/48 [==============================] - 67s 1s/step - loss: 0.1988 - accuracy: 0.9320 - val_loss: 0.1164 - val_accuracy: 0.9668\n",
      "Epoch 12/20\n",
      "48/48 [==============================] - 67s 1s/step - loss: 0.1973 - accuracy: 0.9326 - val_loss: 0.1200 - val_accuracy: 0.9590\n",
      "Epoch 13/20\n",
      "48/48 [==============================] - 67s 1s/step - loss: 0.1419 - accuracy: 0.9564 - val_loss: 0.1232 - val_accuracy: 0.9590\n",
      "Epoch 14/20\n",
      "48/48 [==============================] - 67s 1s/step - loss: 0.1502 - accuracy: 0.9466 - val_loss: 0.0927 - val_accuracy: 0.9707\n",
      "Epoch 15/20\n",
      "48/48 [==============================] - 67s 1s/step - loss: 0.1205 - accuracy: 0.9639 - val_loss: 0.0844 - val_accuracy: 0.9844\n",
      "Epoch 16/20\n",
      "48/48 [==============================] - 67s 1s/step - loss: 0.1092 - accuracy: 0.9655 - val_loss: 0.0770 - val_accuracy: 0.9746\n",
      "Epoch 17/20\n",
      "48/48 [==============================] - 67s 1s/step - loss: 0.1012 - accuracy: 0.9720 - val_loss: 0.0747 - val_accuracy: 0.9805\n",
      "Epoch 18/20\n",
      "48/48 [==============================] - 67s 1s/step - loss: 0.1028 - accuracy: 0.9652 - val_loss: 0.0719 - val_accuracy: 0.9863\n",
      "Epoch 19/20\n",
      "48/48 [==============================] - 67s 1s/step - loss: 0.1112 - accuracy: 0.9619 - val_loss: 0.0788 - val_accuracy: 0.9785\n",
      "Epoch 20/20\n",
      "48/48 [==============================] - 67s 1s/step - loss: 0.0981 - accuracy: 0.9694 - val_loss: 0.0696 - val_accuracy: 0.9824\n"
     ]
    }
   ],
   "source": [
    "# train the network with CLR\n",
    "start = time.time()\n",
    "model.fit_generator(training_dataset, \n",
    "    steps_per_epoch=steps_per_epoch,\n",
    "    validation_data=validation_dataset,\n",
    "    validation_steps=validation_steps,\n",
    "    epochs=EPOCHS,\n",
    "    callbacks=[clr, WandbCallback(data_type=\"image\", labels=CLASSES)])\n",
    "wandb.log({\"training_time\": time.time() - start})"
   ]
  }
 ],
 "metadata": {
  "kernelspec": {
   "display_name": "Python 3",
   "language": "python",
   "name": "python3"
  },
  "language_info": {
   "codemirror_mode": {
    "name": "ipython",
    "version": 3
   },
   "file_extension": ".py",
   "mimetype": "text/x-python",
   "name": "python",
   "nbconvert_exporter": "python",
   "pygments_lexer": "ipython3",
   "version": "3.5.3"
  }
 },
 "nbformat": 4,
 "nbformat_minor": 4
}
