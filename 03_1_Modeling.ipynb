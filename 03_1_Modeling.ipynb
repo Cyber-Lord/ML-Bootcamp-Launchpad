{
 "cells": [
  {
   "cell_type": "code",
   "execution_count": 1,
   "metadata": {},
   "outputs": [],
   "source": [
    "# imports\n",
    "from pyimagesearch.models import minigooglenet_functional\n",
    "from wandb.keras import WandbCallback\n",
    "from utils import data_utils\n",
    "import tensorflow as tf\n",
    "import numpy as np\n",
    "import wandb\n",
    "import time"
   ]
  },
  {
   "cell_type": "markdown",
   "metadata": {},
   "source": [
    "The `pyimagesearch` module comes from our [blog post](https://www.pyimagesearch.com/2019/10/28/3-ways-to-create-a-keras-model-with-tensorflow-2-0-sequential-functional-and-model-subclassing/)."
   ]
  },
  {
   "cell_type": "code",
   "execution_count": 2,
   "metadata": {},
   "outputs": [],
   "source": [
    "# fix random seed for better reproducibility\n",
    "tf.random.set_seed(666)"
   ]
  },
  {
   "cell_type": "code",
   "execution_count": 3,
   "metadata": {},
   "outputs": [
    {
     "data": {
      "text/html": [
       "\n",
       "                Logging results to <a href=\"https://wandb.com\" target=\"_blank\">Weights & Biases</a> <a href=\"https://docs.wandb.com/integrations/jupyter.html\" target=\"_blank\">(Documentation)</a>.<br/>\n",
       "                Project page: <a href=\"https://app.wandb.ai/sayakpaul/ML-Bootcamp-Launchpad\" target=\"_blank\">https://app.wandb.ai/sayakpaul/ML-Bootcamp-Launchpad</a><br/>\n",
       "                Run page: <a href=\"https://app.wandb.ai/sayakpaul/ML-Bootcamp-Launchpad/runs/k2bx4eaz\" target=\"_blank\">https://app.wandb.ai/sayakpaul/ML-Bootcamp-Launchpad/runs/k2bx4eaz</a><br/>\n",
       "            "
      ],
      "text/plain": [
       "<IPython.core.display.HTML object>"
      ]
     },
     "metadata": {},
     "output_type": "display_data"
    },
    {
     "data": {
      "text/plain": [
       "W&B Run: https://app.wandb.ai/sayakpaul/ML-Bootcamp-Launchpad/runs/k2bx4eaz"
      ]
     },
     "execution_count": 3,
     "metadata": {},
     "output_type": "execute_result"
    }
   ],
   "source": [
    "# initialize wandb with a project name\n",
    "# optionally you can pass on a run name as well\n",
    "wandb.init(\"ml-bootcamp\")"
   ]
  },
  {
   "cell_type": "code",
   "execution_count": 4,
   "metadata": {},
   "outputs": [],
   "source": [
    "# don't change this\n",
    "CLASSES = [b'daisy', b'dandelion', b'roses', b'sunflowers', b'tulips']"
   ]
  },
  {
   "cell_type": "code",
   "execution_count": 5,
   "metadata": {},
   "outputs": [],
   "source": [
    "# define the constants\n",
    "BATCH_SIZE = 32\n",
    "EPOCHS = 5"
   ]
  },
  {
   "cell_type": "code",
   "execution_count": 6,
   "metadata": {},
   "outputs": [],
   "source": [
    "# let's load up the tfrecord filenames\n",
    "tfr_pattern_train = \"train_tfr/*.tfrec\"\n",
    "train_filenames = tf.io.gfile.glob(tfr_pattern_train)\n",
    "tfr_pattern_test = \"test_tfr/*.tfrec\"\n",
    "test_filenames = tf.io.gfile.glob(tfr_pattern_test)"
   ]
  },
  {
   "cell_type": "code",
   "execution_count": 7,
   "metadata": {},
   "outputs": [],
   "source": [
    "# create the train and test dataset\n",
    "training_dataset, steps_per_epoch = data_utils.batch_dataset(train_filenames, BATCH_SIZE, True)\n",
    "validation_dataset, validation_steps = data_utils.batch_dataset(test_filenames, BATCH_SIZE, False)"
   ]
  },
  {
   "cell_type": "code",
   "execution_count": 8,
   "metadata": {},
   "outputs": [],
   "source": [
    "# load up the miniinception model and compile it\n",
    "model = minigooglenet_functional(224, 224, 3, len(CLASSES))\n",
    "model.compile(loss=\"sparse_categorical_crossentropy\", optimizer=\"adam\",\n",
    "    metrics=[\"accuracy\"])"
   ]
  },
  {
   "cell_type": "code",
   "execution_count": 9,
   "metadata": {},
   "outputs": [
    {
     "name": "stdout",
     "output_type": "stream",
     "text": [
      "Epoch 1/5\n",
      "97/97 [==============================] - 178s 2s/step - loss: 1.9042 - accuracy: 0.4120 - val_loss: 2.0865 - val_accuracy: 0.2445\n",
      "Epoch 2/5\n",
      "97/97 [==============================] - 163s 2s/step - loss: 1.6847 - accuracy: 0.4791 - val_loss: 2.0872 - val_accuracy: 0.2316\n",
      "Epoch 3/5\n",
      "97/97 [==============================] - 164s 2s/step - loss: 1.3649 - accuracy: 0.5483 - val_loss: 1.4207 - val_accuracy: 0.3842\n",
      "Epoch 4/5\n",
      "97/97 [==============================] - 163s 2s/step - loss: 1.4024 - accuracy: 0.5538 - val_loss: 2.0391 - val_accuracy: 0.3860\n",
      "Epoch 5/5\n",
      "97/97 [==============================] - 164s 2s/step - loss: 1.3504 - accuracy: 0.5867 - val_loss: 1.4175 - val_accuracy: 0.4449\n"
     ]
    }
   ],
   "source": [
    "# train the model\n",
    "start = time.time()\n",
    "model.fit_generator(training_dataset, \n",
    "    steps_per_epoch=steps_per_epoch,\n",
    "    validation_data=validation_dataset,\n",
    "    validation_steps=validation_steps,\n",
    "    epochs=EPOCHS,\n",
    "    callbacks=[WandbCallback(data_type=\"image\", labels=CLASSES)])\n",
    "wandb.log({\"training_time\": time.time() - start})"
   ]
  }
 ],
 "metadata": {
  "kernelspec": {
   "display_name": "Python 3",
   "language": "python",
   "name": "python3"
  },
  "language_info": {
   "codemirror_mode": {
    "name": "ipython",
    "version": 3
   },
   "file_extension": ".py",
   "mimetype": "text/x-python",
   "name": "python",
   "nbconvert_exporter": "python",
   "pygments_lexer": "ipython3",
   "version": "3.5.3"
  }
 },
 "nbformat": 4,
 "nbformat_minor": 4
}
